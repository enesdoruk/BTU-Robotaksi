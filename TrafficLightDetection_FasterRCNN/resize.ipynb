{
 "cells": [
  {
   "cell_type": "code",
   "execution_count": 17,
   "metadata": {},
   "outputs": [],
   "source": [
    "import os \n",
    "import cv2 "
   ]
  },
  {
   "cell_type": "code",
   "execution_count": 48,
   "metadata": {},
   "outputs": [],
   "source": [
    "path = \"C:/Users/ENES DORUK/Desktop/CARF/TrafficLightDetection/TrafficLightDataset/dayTrain/dayClip10/frames\"\n",
    "images = os.listdir(\"C:/Users/ENES DORUK/Desktop/CARF/TrafficLightDetection/TrafficLightDataset/dayTrain/dayClip10/frames\")"
   ]
  },
  {
   "cell_type": "code",
   "execution_count": 49,
   "metadata": {},
   "outputs": [
    {
     "data": {
      "text/plain": [
       "['dayClip10--00000.jpg',\n",
       " 'dayClip10--00001.jpg',\n",
       " 'dayClip10--00002.jpg',\n",
       " 'dayClip10--00003.jpg',\n",
       " 'dayClip10--00004.jpg',\n",
       " 'dayClip10--00005.jpg',\n",
       " 'dayClip10--00006.jpg',\n",
       " 'dayClip10--00007.jpg',\n",
       " 'dayClip10--00008.jpg',\n",
       " 'dayClip10--00009.jpg',\n",
       " 'dayClip10--00010.jpg',\n",
       " 'dayClip10--00011.jpg',\n",
       " 'dayClip10--00012.jpg',\n",
       " 'dayClip10--00013.jpg',\n",
       " 'dayClip10--00014.jpg',\n",
       " 'dayClip10--00015.jpg',\n",
       " 'dayClip10--00016.jpg',\n",
       " 'dayClip10--00017.jpg',\n",
       " 'dayClip10--00018.jpg',\n",
       " 'dayClip10--00019.jpg',\n",
       " 'dayClip10--00020.jpg',\n",
       " 'dayClip10--00021.jpg',\n",
       " 'dayClip10--00022.jpg',\n",
       " 'dayClip10--00023.jpg',\n",
       " 'dayClip10--00024.jpg',\n",
       " 'dayClip10--00025.jpg',\n",
       " 'dayClip10--00026.jpg',\n",
       " 'dayClip10--00027.jpg',\n",
       " 'dayClip10--00028.jpg',\n",
       " 'dayClip10--00029.jpg',\n",
       " 'dayClip10--00030.jpg',\n",
       " 'dayClip10--00031.jpg',\n",
       " 'dayClip10--00032.jpg',\n",
       " 'dayClip10--00033.jpg',\n",
       " 'dayClip10--00034.jpg',\n",
       " 'dayClip10--00035.jpg',\n",
       " 'dayClip10--00036.jpg',\n",
       " 'dayClip10--00037.jpg',\n",
       " 'dayClip10--00038.jpg',\n",
       " 'dayClip10--00039.jpg',\n",
       " 'dayClip10--00040.jpg',\n",
       " 'dayClip10--00041.jpg',\n",
       " 'dayClip10--00042.jpg',\n",
       " 'dayClip10--00043.jpg',\n",
       " 'dayClip10--00044.jpg',\n",
       " 'dayClip10--00045.jpg',\n",
       " 'dayClip10--00046.jpg',\n",
       " 'dayClip10--00047.jpg',\n",
       " 'dayClip10--00048.jpg']"
      ]
     },
     "execution_count": 49,
     "metadata": {},
     "output_type": "execute_result"
    }
   ],
   "source": [
    "images"
   ]
  },
  {
   "cell_type": "code",
   "execution_count": 50,
   "metadata": {},
   "outputs": [
    {
     "data": {
      "text/plain": [
       "(960, 1280, 3)"
      ]
     },
     "execution_count": 50,
     "metadata": {},
     "output_type": "execute_result"
    }
   ],
   "source": [
    "shapes = cv2.imread(\"{}/{}\".format(path,images[1]))\n",
    "shapes.shape"
   ]
  },
  {
   "cell_type": "code",
   "execution_count": 51,
   "metadata": {},
   "outputs": [],
   "source": [
    "for i in range(len(images)):\n",
    "    image = cv2.imread(\"{}/{}\".format(path,images[i]))\n",
    "    image = cv2.resize(image, (416,416))\n",
    "    cv2.imwrite(\"{}/{}\".format(path,images[i]),image)"
   ]
  },
  {
   "cell_type": "code",
   "execution_count": 12,
   "metadata": {},
   "outputs": [
    {
     "data": {
      "text/plain": [
       "'C:/Users/ENES DORUK/Desktop/CARF/TrafficLightDetection/TrafficLightDataset/dayTrain/dayClip1/frames'"
      ]
     },
     "execution_count": 12,
     "metadata": {},
     "output_type": "execute_result"
    }
   ],
   "source": [
    "path"
   ]
  },
  {
   "cell_type": "code",
   "execution_count": 15,
   "metadata": {},
   "outputs": [
    {
     "data": {
      "text/plain": [
       "-1"
      ]
     },
     "execution_count": 15,
     "metadata": {},
     "output_type": "execute_result"
    }
   ],
   "source": [
    "x = cv2.imread(\"{}/{}\".format(path,images[1]))\n",
    "cv2.imshow(\"sdfsd\",x)\n",
    "cv2.waitKey(0)"
   ]
  },
  {
   "cell_type": "code",
   "execution_count": null,
   "metadata": {},
   "outputs": [],
   "source": []
  }
 ],
 "metadata": {
  "kernelspec": {
   "display_name": "Python 3",
   "language": "python",
   "name": "python3"
  },
  "language_info": {
   "codemirror_mode": {
    "name": "ipython",
    "version": 3
   },
   "file_extension": ".py",
   "mimetype": "text/x-python",
   "name": "python",
   "nbconvert_exporter": "python",
   "pygments_lexer": "ipython3",
   "version": "3.7.4"
  }
 },
 "nbformat": 4,
 "nbformat_minor": 4
}
